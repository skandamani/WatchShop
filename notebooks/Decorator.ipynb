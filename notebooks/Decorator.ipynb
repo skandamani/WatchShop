{
 "cells": [
  {
   "cell_type": "code",
   "execution_count": 4,
   "id": "863fb309-7db4-46fe-b7ae-cb2979ce1ff9",
   "metadata": {},
   "outputs": [],
   "source": [
    "class A:\n",
    "    def __init__(self,name):\n",
    "        self.name= name\n",
    "\n",
    "    def __str__(self):\n",
    "        return self.name"
   ]
  },
  {
   "cell_type": "code",
   "execution_count": 7,
   "id": "38f2edd3-5fd6-46ac-bd68-3518c1984b9c",
   "metadata": {},
   "outputs": [],
   "source": [
    "obj1 = A(\"ram\")"
   ]
  },
  {
   "cell_type": "code",
   "execution_count": 8,
   "id": "88a9041a-5954-4e00-ae4d-016ebc17cb50",
   "metadata": {},
   "outputs": [
    {
     "name": "stdout",
     "output_type": "stream",
     "text": [
      "ram\n"
     ]
    }
   ],
   "source": [
    "print(obj1)"
   ]
  },
  {
   "cell_type": "markdown",
   "id": "3194108e-e9c0-45a7-8ea3-79f0e0510109",
   "metadata": {},
   "source": [
    "# Decorator Example"
   ]
  },
  {
   "cell_type": "code",
   "execution_count": 12,
   "id": "f8edc9bd-d612-4a00-b12f-27dcc5f69c12",
   "metadata": {},
   "outputs": [],
   "source": []
  },
  {
   "cell_type": "code",
   "execution_count": 13,
   "id": "3078477a-ecda-4eec-91b5-c26feeefad78",
   "metadata": {},
   "outputs": [
    {
     "name": "stdout",
     "output_type": "stream",
     "text": [
      "This is hey function\n"
     ]
    }
   ],
   "source": [
    "hey()"
   ]
  },
  {
   "cell_type": "code",
   "execution_count": 15,
   "id": "ae4b0423-0cc1-427e-9066-8db826b4375f",
   "metadata": {},
   "outputs": [
    {
     "name": "stdout",
     "output_type": "stream",
     "text": [
      "This is hey function\n"
     ]
    }
   ],
   "source": [
    "x = hey\n",
    "x()"
   ]
  },
  {
   "cell_type": "code",
   "execution_count": null,
   "id": "dcc468fa-69dc-4bba-8af3-65bfbe02d133",
   "metadata": {},
   "outputs": [],
   "source": []
  },
  {
   "cell_type": "code",
   "execution_count": null,
   "id": "f171da10-1e6f-4d3b-acd7-24b9154c6223",
   "metadata": {},
   "outputs": [],
   "source": []
  },
  {
   "cell_type": "code",
   "execution_count": 21,
   "id": "c9af314e-17f1-4fcf-8c1c-ad20e75deca9",
   "metadata": {},
   "outputs": [],
   "source": [
    "def outerfun(func):\n",
    "\n",
    "    def innerfun():\n",
    "        print(\"Before\")\n",
    "        func()\n",
    "        print(\"After\")\n",
    "\n",
    "    return innerfun"
   ]
  },
  {
   "cell_type": "code",
   "execution_count": null,
   "id": "83f01a10-e23c-4cfe-a727-5fdb8224f275",
   "metadata": {},
   "outputs": [],
   "source": []
  },
  {
   "cell_type": "code",
   "execution_count": 22,
   "id": "06f4e0ea-887a-499f-82f1-3fa37064c1f9",
   "metadata": {},
   "outputs": [
    {
     "data": {
      "text/plain": [
       "<function __main__.outerfun(func)>"
      ]
     },
     "execution_count": 22,
     "metadata": {},
     "output_type": "execute_result"
    }
   ],
   "source": [
    "outerfun"
   ]
  },
  {
   "cell_type": "code",
   "execution_count": 24,
   "id": "ac2460d7-123f-4d3c-8f5b-e7c45e94fa1f",
   "metadata": {},
   "outputs": [],
   "source": [
    "@outerfun\n",
    "def hi():\n",
    "    print(\"This is hi\")"
   ]
  },
  {
   "cell_type": "code",
   "execution_count": 26,
   "id": "63da70fd-e130-4ed1-9592-e9566042d65a",
   "metadata": {},
   "outputs": [],
   "source": [
    "@outerfun\n",
    "def hey():\n",
    "    print(\"This is hey function\")"
   ]
  },
  {
   "cell_type": "code",
   "execution_count": 27,
   "id": "54e8deb5-6cac-4b36-9da9-e3249edefb14",
   "metadata": {},
   "outputs": [
    {
     "name": "stdout",
     "output_type": "stream",
     "text": [
      "Before\n",
      "This is hey function\n",
      "After\n"
     ]
    }
   ],
   "source": [
    "hey()"
   ]
  },
  {
   "cell_type": "code",
   "execution_count": null,
   "id": "ac161373-1170-458d-b592-2fc695dec653",
   "metadata": {},
   "outputs": [],
   "source": []
  },
  {
   "cell_type": "code",
   "execution_count": 25,
   "id": "1a97bf33-05dc-4919-b7a3-9e88b32a98a9",
   "metadata": {},
   "outputs": [
    {
     "name": "stdout",
     "output_type": "stream",
     "text": [
      "Before\n",
      "This is hi\n",
      "After\n"
     ]
    }
   ],
   "source": [
    "hi()"
   ]
  },
  {
   "cell_type": "code",
   "execution_count": 28,
   "id": "9be900e6-9387-4bf2-9119-090cb8720c49",
   "metadata": {},
   "outputs": [],
   "source": [
    "import time"
   ]
  },
  {
   "cell_type": "code",
   "execution_count": 29,
   "id": "aae6fb39-4686-4f2d-968c-4020caedfaa0",
   "metadata": {},
   "outputs": [],
   "source": [
    "def timer(func):\n",
    "    def innerfun():\n",
    "        start = time.time()\n",
    "        func()\n",
    "        print(\"Total time taken : \", time.time()-start)\n",
    "    return innerfun\n",
    "        "
   ]
  },
  {
   "cell_type": "code",
   "execution_count": 30,
   "id": "fa5d832c-9a18-4b60-ac4a-ab70d6702d0a",
   "metadata": {},
   "outputs": [],
   "source": [
    "@timer\n",
    "def hi():\n",
    "    print(\"This is hi\")"
   ]
  },
  {
   "cell_type": "code",
   "execution_count": 31,
   "id": "fefb95dc-ea0f-49d2-aa0c-f6efdca878fb",
   "metadata": {},
   "outputs": [
    {
     "name": "stdout",
     "output_type": "stream",
     "text": [
      "This is hi\n",
      "Total time taken :  0.000997781753540039\n"
     ]
    }
   ],
   "source": [
    "hi()"
   ]
  },
  {
   "cell_type": "code",
   "execution_count": null,
   "id": "09090a7e-47d1-4d8c-930e-0d7c0ab88d73",
   "metadata": {},
   "outputs": [],
   "source": []
  }
 ],
 "metadata": {
  "kernelspec": {
   "display_name": "Python 3 (ipykernel)",
   "language": "python",
   "name": "python3"
  },
  "language_info": {
   "codemirror_mode": {
    "name": "ipython",
    "version": 3
   },
   "file_extension": ".py",
   "mimetype": "text/x-python",
   "name": "python",
   "nbconvert_exporter": "python",
   "pygments_lexer": "ipython3",
   "version": "3.12.4"
  }
 },
 "nbformat": 4,
 "nbformat_minor": 5
}

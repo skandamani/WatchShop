{
 "cells": [
  {
   "cell_type": "markdown",
   "id": "89a02b3f",
   "metadata": {},
   "source": [
    "# Django Async setup - Notebook"
   ]
  },
  {
   "cell_type": "code",
   "execution_count": 7,
   "id": "89b53b50",
   "metadata": {},
   "outputs": [],
   "source": [
    "import django\n",
    "import os\n",
    "os.environ.setdefault('DJANGO_SETTINGS_MODULE', 'rest.settings')\n",
    "os.environ['DJANGO_ALLOW_ASYNC_UNSAFE'] = 'true'\n",
    "django.setup()"
   ]
  },
  {
   "cell_type": "markdown",
   "id": "4f2fd7ac",
   "metadata": {},
   "source": [
    "# Importing model form Django"
   ]
  },
  {
   "cell_type": "code",
   "execution_count": 12,
   "id": "6c1b76fc",
   "metadata": {},
   "outputs": [],
   "source": [
    "from HomePage.models import WatchesUploads"
   ]
  },
  {
   "cell_type": "markdown",
   "id": "d4dea028",
   "metadata": {},
   "source": [
    "# 1. Get all the objects and modifying it"
   ]
  },
  {
   "cell_type": "code",
   "execution_count": 13,
   "id": "e1dc79ee",
   "metadata": {},
   "outputs": [],
   "source": [
    "items = WatchesUploads.objects.all()"
   ]
  },
  {
   "cell_type": "code",
   "execution_count": 16,
   "id": "cbb2a9d9",
   "metadata": {},
   "outputs": [
    {
     "data": {
      "text/plain": [
       "django.db.models.query.QuerySet"
      ]
     },
     "execution_count": 16,
     "metadata": {},
     "output_type": "execute_result"
    }
   ],
   "source": [
    "type(items)"
   ]
  },
  {
   "cell_type": "code",
   "execution_count": 15,
   "id": "118ac081",
   "metadata": {},
   "outputs": [
    {
     "name": "stdout",
     "output_type": "stream",
     "text": [
      "Casio P-1 7500.0 1\n",
      "G-Shock 8000.0 15\n",
      "Test Watch 5600.0 1\n",
      "Titan 8990.0 21\n",
      "Fossil 12999.0 1\n",
      "Casio P-2 5600.0 5\n"
     ]
    }
   ],
   "source": [
    "for item in items:\n",
    "    print(item.name, item.price, item.count)"
   ]
  },
  {
   "cell_type": "code",
   "execution_count": 21,
   "id": "0a5070ab",
   "metadata": {},
   "outputs": [],
   "source": [
    "def Show_Data(items):\n",
    "    if type(items) == django.db.models.query.QuerySet:\n",
    "        for item in items:\n",
    "            print(item.id, \"|\" ,item.name, \"|\" ,item.price,\"|\" ,item.count)\n",
    "        return None\n",
    "    else:\n",
    "        print(items.id, \"|\" ,items.name, \"|\" ,items.price,\"|\" ,items.count)\n",
    "    return None\n",
    "        "
   ]
  },
  {
   "cell_type": "code",
   "execution_count": 22,
   "id": "346509ed",
   "metadata": {},
   "outputs": [
    {
     "name": "stdout",
     "output_type": "stream",
     "text": [
      "6 | Casio P-1 | 7500.0 | 1\n",
      "8 | G-Shock | 8000.0 | 15\n",
      "11 | Test Watch | 5600.0 | 1\n",
      "12 | Titan | 8990.0 | 21\n",
      "13 | Fossil | 12999.0 | 1\n",
      "14 | Casio P-2 | 5600.0 | 5\n"
     ]
    }
   ],
   "source": [
    "#Get all items\n",
    "items = WatchesUploads.objects.all()\n",
    "Show_Data(items)"
   ]
  },
  {
   "cell_type": "code",
   "execution_count": 23,
   "id": "f1e4e232",
   "metadata": {},
   "outputs": [
    {
     "name": "stdout",
     "output_type": "stream",
     "text": [
      "8 | G-Shock | 8000.0 | 15\n"
     ]
    }
   ],
   "source": [
    "#Get single item with id\n",
    "single_item = WatchesUploads.objects.get(id=8)\n",
    "Show_Data(single_item)"
   ]
  },
  {
   "cell_type": "code",
   "execution_count": 28,
   "id": "0f13a6fe",
   "metadata": {},
   "outputs": [
    {
     "name": "stdout",
     "output_type": "stream",
     "text": [
      "8 | G-Shock | 8000.0 | 9\n"
     ]
    }
   ],
   "source": [
    "#change existing value -- right way\n",
    "single_item.count=9\n",
    "single_item.save()\n",
    "Show_Data(single_item)"
   ]
  },
  {
   "cell_type": "code",
   "execution_count": 29,
   "id": "1612f61a",
   "metadata": {},
   "outputs": [
    {
     "name": "stdout",
     "output_type": "stream",
     "text": [
      "8 | G-Shock | 8000.0 | 5\n"
     ]
    }
   ],
   "source": [
    "#change existing value without save\n",
    "single_item.count=5\n",
    "Show_Data(single_item)"
   ]
  },
  {
   "cell_type": "markdown",
   "id": "06f95b7e",
   "metadata": {},
   "source": [
    "# 2. Filter Items"
   ]
  },
  {
   "cell_type": "code",
   "execution_count": 30,
   "id": "564b8d3c",
   "metadata": {},
   "outputs": [
    {
     "name": "stdout",
     "output_type": "stream",
     "text": [
      "6 | Casio P-1 | 7500.0 | 1\n",
      "14 | Casio P-2 | 5600.0 | 5\n"
     ]
    }
   ],
   "source": [
    "#Exmaple using name\n",
    "name = \"Cas\"\n",
    "fil_items = WatchesUploads.objects.filter(name__startswith = name)\n",
    "Show_Data(fil_items)"
   ]
  },
  {
   "cell_type": "markdown",
   "id": "d76b55e1",
   "metadata": {},
   "source": [
    "# 3. Sort the Items"
   ]
  },
  {
   "cell_type": "code",
   "execution_count": 31,
   "id": "e649c8a8",
   "metadata": {},
   "outputs": [
    {
     "name": "stdout",
     "output_type": "stream",
     "text": [
      "6 | Casio P-1 | 7500.0 | 1\n",
      "11 | Test Watch | 5600.0 | 1\n",
      "13 | Fossil | 12999.0 | 1\n",
      "14 | Casio P-2 | 5600.0 | 5\n",
      "8 | G-Shock | 8000.0 | 9\n",
      "12 | Titan | 8990.0 | 21\n"
     ]
    }
   ],
   "source": [
    "sort_objects = WatchesUploads.objects.order_by(\"count\")\n",
    "Show_Data(sort_objects)"
   ]
  },
  {
   "cell_type": "code",
   "execution_count": null,
   "id": "ed5e7f8e",
   "metadata": {},
   "outputs": [],
   "source": []
  }
 ],
 "metadata": {
  "kernelspec": {
   "display_name": "Django Shell-Plus",
   "language": "python",
   "name": "django_extensions"
  },
  "language_info": {
   "codemirror_mode": {
    "name": "ipython",
    "version": 3
   },
   "file_extension": ".py",
   "mimetype": "text/x-python",
   "name": "python",
   "nbconvert_exporter": "python",
   "pygments_lexer": "ipython3",
   "version": "3.11.9"
  }
 },
 "nbformat": 4,
 "nbformat_minor": 5
}
